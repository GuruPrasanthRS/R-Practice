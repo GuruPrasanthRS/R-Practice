{
  "nbformat": 4,
  "nbformat_minor": 0,
  "metadata": {
    "colab": {
      "provenance": []
    },
    "kernelspec": {
      "name": "ir",
      "display_name": "R"
    },
    "language_info": {
      "name": "R"
    }
  },
  "cells": [
    {
      "cell_type": "markdown",
      "source": [
        "#Assignment-10\n",
        "#Name : Guru Prasanth R S\n",
        "#Redg No: 24040208003\n"
      ],
      "metadata": {
        "id": "Sc-UN2J6H0zP"
      }
    },
    {
      "cell_type": "markdown",
      "source": [
        "# Readr , Purr, Tibble"
      ],
      "metadata": {
        "id": "YsUnCxtxIUY-"
      }
    },
    {
      "cell_type": "markdown",
      "source": [
        "## Install required packages"
      ],
      "metadata": {
        "id": "QTYjKOj-IkA3"
      }
    },
    {
      "cell_type": "code",
      "source": [
        "install.packages('readr')\n",
        "install.packages('purrr')\n",
        "install.packages('tibble')\n",
        "install.packages('dplyr')"
      ],
      "metadata": {
        "colab": {
          "base_uri": "https://localhost:8080/"
        },
        "id": "_qi6skAvH0mv",
        "outputId": "b72c7b8b-78e1-438e-853e-e61b21ea2ae4"
      },
      "execution_count": 1,
      "outputs": [
        {
          "output_type": "stream",
          "name": "stderr",
          "text": [
            "Installing package into ‘/usr/local/lib/R/site-library’\n",
            "(as ‘lib’ is unspecified)\n",
            "\n",
            "Installing package into ‘/usr/local/lib/R/site-library’\n",
            "(as ‘lib’ is unspecified)\n",
            "\n",
            "Installing package into ‘/usr/local/lib/R/site-library’\n",
            "(as ‘lib’ is unspecified)\n",
            "\n",
            "Installing package into ‘/usr/local/lib/R/site-library’\n",
            "(as ‘lib’ is unspecified)\n",
            "\n"
          ]
        }
      ]
    },
    {
      "cell_type": "markdown",
      "source": [
        "## Load necessary libraries"
      ],
      "metadata": {
        "id": "X0VPl9-HIjWQ"
      }
    },
    {
      "cell_type": "code",
      "execution_count": 2,
      "metadata": {
        "colab": {
          "base_uri": "https://localhost:8080/"
        },
        "id": "YbdOOSSYH0Eq",
        "outputId": "48048908-9d1d-4bac-c239-60a9364ee7d5"
      },
      "outputs": [
        {
          "output_type": "stream",
          "name": "stderr",
          "text": [
            "\n",
            "Attaching package: ‘dplyr’\n",
            "\n",
            "\n",
            "The following objects are masked from ‘package:stats’:\n",
            "\n",
            "    filter, lag\n",
            "\n",
            "\n",
            "The following objects are masked from ‘package:base’:\n",
            "\n",
            "    intersect, setdiff, setequal, union\n",
            "\n",
            "\n"
          ]
        }
      ],
      "source": [
        "library(readr)\n",
        "library(purrr)\n",
        "library(tibble)\n",
        "library(dplyr)"
      ]
    },
    {
      "cell_type": "markdown",
      "source": [
        "## Create sample student data"
      ],
      "metadata": {
        "id": "AR48F0MdIrUe"
      }
    },
    {
      "cell_type": "code",
      "source": [
        "students <- tibble(\n",
        "  name = c(\"Alice\", \"Bob\", \"Charlie\", \"David\"),\n",
        "  math_score = c(85, 56, 90, 45),\n",
        "  science_score = c(92, 61, 94, 50),\n",
        "  english_score = c(78, 65, 88, 40)\n",
        ")\n",
        "\n",
        "# Write the tibble to a CSV file\n",
        "write_csv(students, \"students.csv\")"
      ],
      "metadata": {
        "id": "vSxY267mIgl_"
      },
      "execution_count": 3,
      "outputs": []
    },
    {
      "cell_type": "code",
      "source": [
        "# Step 1: Read the data from the CSV file into a tibble\n",
        "students_data <- read_csv(\"students.csv\") %>%\n",
        "  as_tibble()\n",
        "\n",
        "# Print the data to see the structure\n",
        "print(students_data)\n",
        "\n",
        "# Step 2: Calculate total scores for each student\n",
        "students_data <- students_data %>%\n",
        "  mutate(\n",
        "    total_score = math_score + science_score + english_score\n",
        "  )\n",
        "\n",
        "# Step 3: Apply a function to determine if the student passed (Total score > 240)\n",
        "# Let's assume a passing score is 240 for simplicity.\n",
        "students_data <- students_data %>%\n",
        "  mutate(\n",
        "    pass_status = map_chr(total_score, ~ ifelse(.x > 240, \"Pass\", \"Fail\"))\n",
        "  )\n",
        "\n",
        "# Step 4: View the final tibble\n",
        "print(students_data)"
      ],
      "metadata": {
        "colab": {
          "base_uri": "https://localhost:8080/"
        },
        "id": "_4rpkJNlIvAQ",
        "outputId": "f25c93e0-26c3-4d51-e85d-8f01bb1b6a11"
      },
      "execution_count": 4,
      "outputs": [
        {
          "output_type": "stream",
          "name": "stderr",
          "text": [
            "\u001b[1mRows: \u001b[22m\u001b[34m4\u001b[39m \u001b[1mColumns: \u001b[22m\u001b[34m4\u001b[39m\n",
            "\u001b[36m──\u001b[39m \u001b[1mColumn specification\u001b[22m \u001b[36m────────────────────────────────────────────────────────\u001b[39m\n",
            "\u001b[1mDelimiter:\u001b[22m \",\"\n",
            "\u001b[31mchr\u001b[39m (1): name\n",
            "\u001b[32mdbl\u001b[39m (3): math_score, science_score, english_score\n",
            "\n",
            "\u001b[36mℹ\u001b[39m Use `spec()` to retrieve the full column specification for this data.\n",
            "\u001b[36mℹ\u001b[39m Specify the column types or set `show_col_types = FALSE` to quiet this message.\n"
          ]
        },
        {
          "output_type": "stream",
          "name": "stdout",
          "text": [
            "\u001b[90m# A tibble: 4 × 4\u001b[39m\n",
            "  name    math_score science_score english_score\n",
            "  \u001b[3m\u001b[90m<chr>\u001b[39m\u001b[23m        \u001b[3m\u001b[90m<dbl>\u001b[39m\u001b[23m         \u001b[3m\u001b[90m<dbl>\u001b[39m\u001b[23m         \u001b[3m\u001b[90m<dbl>\u001b[39m\u001b[23m\n",
            "\u001b[90m1\u001b[39m Alice           85            92            78\n",
            "\u001b[90m2\u001b[39m Bob             56            61            65\n",
            "\u001b[90m3\u001b[39m Charlie         90            94            88\n",
            "\u001b[90m4\u001b[39m David           45            50            40\n",
            "\u001b[90m# A tibble: 4 × 6\u001b[39m\n",
            "  name    math_score science_score english_score total_score pass_status\n",
            "  \u001b[3m\u001b[90m<chr>\u001b[39m\u001b[23m        \u001b[3m\u001b[90m<dbl>\u001b[39m\u001b[23m         \u001b[3m\u001b[90m<dbl>\u001b[39m\u001b[23m         \u001b[3m\u001b[90m<dbl>\u001b[39m\u001b[23m       \u001b[3m\u001b[90m<dbl>\u001b[39m\u001b[23m \u001b[3m\u001b[90m<chr>\u001b[39m\u001b[23m      \n",
            "\u001b[90m1\u001b[39m Alice           85            92            78         255 Pass       \n",
            "\u001b[90m2\u001b[39m Bob             56            61            65         182 Fail       \n",
            "\u001b[90m3\u001b[39m Charlie         90            94            88         272 Pass       \n",
            "\u001b[90m4\u001b[39m David           45            50            40         135 Fail       \n"
          ]
        }
      ]
    },
    {
      "cell_type": "code",
      "source": [],
      "metadata": {
        "id": "0u24LbjLI0mf"
      },
      "execution_count": null,
      "outputs": []
    }
  ]
}